{
  "nbformat": 4,
  "nbformat_minor": 0,
  "metadata": {
    "colab": {
      "provenance": [],
      "gpuType": "T4",
      "authorship_tag": "ABX9TyPKIlxxGgmbkKudImb2LHIZ",
      "include_colab_link": true
    },
    "kernelspec": {
      "name": "python3",
      "display_name": "Python 3"
    },
    "language_info": {
      "name": "python"
    },
    "accelerator": "GPU"
  },
  "cells": [
    {
      "cell_type": "markdown",
      "metadata": {
        "id": "view-in-github",
        "colab_type": "text"
      },
      "source": [
        "<a href=\"https://colab.research.google.com/github/Willian-Campos/DeepLearn-Apprenticeship/blob/main/MNIST_tensorflow.ipynb\" target=\"_parent\"><img src=\"https://colab.research.google.com/assets/colab-badge.svg\" alt=\"Open In Colab\"/></a>"
      ]
    },
    {
      "cell_type": "markdown",
      "source": [
        "## O que é o MNIST\n",
        "\n",
        "O dataset MNIST (Modified National Institute of Standards and Technology database) é um conjunto de dados amplamente utilizado na área de aprendizado de máquina e visão computacional. Ele consiste em imagens de dígitos numéricos de 0 a 9, escritas à mão, e é projetado para ser um benchmark padrão para algoritmos de classificação."
      ],
      "metadata": {
        "id": "XpNicu3_5zwr"
      }
    },
    {
      "cell_type": "markdown",
      "source": [
        "## Por quê Tensorflow?\n",
        "\n",
        "Comunidade ativa: Tem uma vasta comunidade de desenvolvedores e suporte oficial do Google, com documentação detalhada e recursos didáticos.\n",
        "\n",
        "Adoção por empresas e academias: É amplamente utilizado em produção e pesquisa por empresas de tecnologia, startups, e instituições acadêmicas ao redor do mundo.\n",
        "\n",
        "Open source: Por ser gratuito e de código aberto, é acessível para desenvolvedores de todos os níveis."
      ],
      "metadata": {
        "id": "IQia7dru6yOl"
      }
    },
    {
      "cell_type": "markdown",
      "source": [
        "## Bibliotecas"
      ],
      "metadata": {
        "id": "Z2ykuhOf8Tr1"
      }
    },
    {
      "cell_type": "code",
      "source": [
        "# ML\n",
        "import tensorflow as tf\n",
        "\n",
        "# Visualização\n",
        "import plotly.express as px\n",
        "import plotly.subplots as sp\n",
        "import matplotlib.pyplot as plt"
      ],
      "metadata": {
        "id": "2kf02P9B7N5c"
      },
      "execution_count": 14,
      "outputs": []
    },
    {
      "cell_type": "code",
      "source": [
        "# Carregando o dataset MNIST diretamente do TensorFlow\n",
        "(x_train, y_train), (x_test, y_test) = tf.keras.datasets.mnist.load_data() #load_data(): É uma função fornecida pelo TensorFlow dentro de tf.keras.datasets.\n",
        "\n",
        "# x_train: Imagens de entrada para treinamento.\n",
        "# y_train: Rótulos correspondentes às imagens do treinamento.\n",
        "# x_test: Imagens de entrada para teste.\n",
        "# y_test: Rótulos correspondentes às imagens do teste."
      ],
      "metadata": {
        "colab": {
          "base_uri": "https://localhost:8080/"
        },
        "id": "gNIBtSsV_3MQ",
        "outputId": "00abb7a5-9d6b-412f-ace6-d5dbb18e20e1"
      },
      "execution_count": 3,
      "outputs": [
        {
          "output_type": "stream",
          "name": "stdout",
          "text": [
            "Downloading data from https://storage.googleapis.com/tensorflow/tf-keras-datasets/mnist.npz\n",
            "\u001b[1m11490434/11490434\u001b[0m \u001b[32m━━━━━━━━━━━━━━━━━━━━\u001b[0m\u001b[37m\u001b[0m \u001b[1m0s\u001b[0m 0us/step\n"
          ]
        }
      ]
    },
    {
      "cell_type": "markdown",
      "source": [
        "| Variável    | Tipo         | Dimensão         | Descrição                                                                                          |\n",
        "|-------------|--------------|------------------|--------------------------------------------------------------------------------------------------|\n",
        "| `x_train`   | NumPy Array  | (60000, 28, 28)  | 60.000 imagens para treinamento. Cada imagem é uma matriz 28x28 com valores inteiros representando a intensidade de brilho (de 0 a 255). |\n",
        "| `y_train`   | NumPy Array  | (60000,)         | 60.000 rótulos associados às imagens de treinamento. Cada rótulo é um número de 0 a 9 que indica o dígito representado na imagem. |\n",
        "| `x_test`    | NumPy Array  | (10000, 28, 28)  | 10.000 imagens para teste. O formato é idêntico ao do conjunto de treinamento, mas usado para avaliar o desempenho do modelo. |\n",
        "| `y_test`    | NumPy Array  | (10000,)         | 10.000 rótulos associados às imagens de teste.                                                   |"
      ],
      "metadata": {
        "id": "6927rQ0UAqEG"
      }
    },
    {
      "cell_type": "code",
      "source": [
        "# Verificando os tamanhos dos conjuntos\n",
        "print(f\"x_train: {x_train.shape}, y_train: {y_train.shape}\")\n",
        "print(f\"x_test: {x_test.shape}, y_test: {y_test.shape}\")\n",
        "\n",
        "# Exemplo de um rótulo e sua imagem associada\n",
        "print(f\"\\nRótulo da primeira imagem de treinamento: {y_train[0]}\")\n",
        "\n",
        "# Visualizando a matriz de pixels da primeira imagem\n",
        "print(f\"\\nMatriz de pixels da primeira imagem:\\n\\n{x_train[0]}\")"
      ],
      "metadata": {
        "colab": {
          "base_uri": "https://localhost:8080/"
        },
        "id": "GRWqbUTOChEt",
        "outputId": "d3ed00c5-e210-4332-ea7c-835016d34bc3"
      },
      "execution_count": 9,
      "outputs": [
        {
          "output_type": "stream",
          "name": "stdout",
          "text": [
            "x_train: (60000, 28, 28), y_train: (60000,)\n",
            "x_test: (10000, 28, 28), y_test: (10000,)\n",
            "\n",
            "Rótulo da primeira imagem de treinamento: 5\n",
            "\n",
            "Matriz de pixels da primeira imagem:\n",
            "\n",
            "[[  0   0   0   0   0   0   0   0   0   0   0   0   0   0   0   0   0   0\n",
            "    0   0   0   0   0   0   0   0   0   0]\n",
            " [  0   0   0   0   0   0   0   0   0   0   0   0   0   0   0   0   0   0\n",
            "    0   0   0   0   0   0   0   0   0   0]\n",
            " [  0   0   0   0   0   0   0   0   0   0   0   0   0   0   0   0   0   0\n",
            "    0   0   0   0   0   0   0   0   0   0]\n",
            " [  0   0   0   0   0   0   0   0   0   0   0   0   0   0   0   0   0   0\n",
            "    0   0   0   0   0   0   0   0   0   0]\n",
            " [  0   0   0   0   0   0   0   0   0   0   0   0   0   0   0   0   0   0\n",
            "    0   0   0   0   0   0   0   0   0   0]\n",
            " [  0   0   0   0   0   0   0   0   0   0   0   0   3  18  18  18 126 136\n",
            "  175  26 166 255 247 127   0   0   0   0]\n",
            " [  0   0   0   0   0   0   0   0  30  36  94 154 170 253 253 253 253 253\n",
            "  225 172 253 242 195  64   0   0   0   0]\n",
            " [  0   0   0   0   0   0   0  49 238 253 253 253 253 253 253 253 253 251\n",
            "   93  82  82  56  39   0   0   0   0   0]\n",
            " [  0   0   0   0   0   0   0  18 219 253 253 253 253 253 198 182 247 241\n",
            "    0   0   0   0   0   0   0   0   0   0]\n",
            " [  0   0   0   0   0   0   0   0  80 156 107 253 253 205  11   0  43 154\n",
            "    0   0   0   0   0   0   0   0   0   0]\n",
            " [  0   0   0   0   0   0   0   0   0  14   1 154 253  90   0   0   0   0\n",
            "    0   0   0   0   0   0   0   0   0   0]\n",
            " [  0   0   0   0   0   0   0   0   0   0   0 139 253 190   2   0   0   0\n",
            "    0   0   0   0   0   0   0   0   0   0]\n",
            " [  0   0   0   0   0   0   0   0   0   0   0  11 190 253  70   0   0   0\n",
            "    0   0   0   0   0   0   0   0   0   0]\n",
            " [  0   0   0   0   0   0   0   0   0   0   0   0  35 241 225 160 108   1\n",
            "    0   0   0   0   0   0   0   0   0   0]\n",
            " [  0   0   0   0   0   0   0   0   0   0   0   0   0  81 240 253 253 119\n",
            "   25   0   0   0   0   0   0   0   0   0]\n",
            " [  0   0   0   0   0   0   0   0   0   0   0   0   0   0  45 186 253 253\n",
            "  150  27   0   0   0   0   0   0   0   0]\n",
            " [  0   0   0   0   0   0   0   0   0   0   0   0   0   0   0  16  93 252\n",
            "  253 187   0   0   0   0   0   0   0   0]\n",
            " [  0   0   0   0   0   0   0   0   0   0   0   0   0   0   0   0   0 249\n",
            "  253 249  64   0   0   0   0   0   0   0]\n",
            " [  0   0   0   0   0   0   0   0   0   0   0   0   0   0  46 130 183 253\n",
            "  253 207   2   0   0   0   0   0   0   0]\n",
            " [  0   0   0   0   0   0   0   0   0   0   0   0  39 148 229 253 253 253\n",
            "  250 182   0   0   0   0   0   0   0   0]\n",
            " [  0   0   0   0   0   0   0   0   0   0  24 114 221 253 253 253 253 201\n",
            "   78   0   0   0   0   0   0   0   0   0]\n",
            " [  0   0   0   0   0   0   0   0  23  66 213 253 253 253 253 198  81   2\n",
            "    0   0   0   0   0   0   0   0   0   0]\n",
            " [  0   0   0   0   0   0  18 171 219 253 253 253 253 195  80   9   0   0\n",
            "    0   0   0   0   0   0   0   0   0   0]\n",
            " [  0   0   0   0  55 172 226 253 253 253 253 244 133  11   0   0   0   0\n",
            "    0   0   0   0   0   0   0   0   0   0]\n",
            " [  0   0   0   0 136 253 253 253 212 135 132  16   0   0   0   0   0   0\n",
            "    0   0   0   0   0   0   0   0   0   0]\n",
            " [  0   0   0   0   0   0   0   0   0   0   0   0   0   0   0   0   0   0\n",
            "    0   0   0   0   0   0   0   0   0   0]\n",
            " [  0   0   0   0   0   0   0   0   0   0   0   0   0   0   0   0   0   0\n",
            "    0   0   0   0   0   0   0   0   0   0]\n",
            " [  0   0   0   0   0   0   0   0   0   0   0   0   0   0   0   0   0   0\n",
            "    0   0   0   0   0   0   0   0   0   0]]\n"
          ]
        }
      ]
    },
    {
      "cell_type": "code",
      "source": [
        "# Explorando os dados\n",
        "print(f\"Formato do conjunto de treinamento: {x_train.shape}, {y_train.shape}\")\n",
        "print(f\"Formato do conjunto de teste: {x_test.shape}, {y_test.shape}\")\n",
        "print(f\"Tipo dos dados: {x_train.dtype}\")"
      ],
      "metadata": {
        "colab": {
          "base_uri": "https://localhost:8080/"
        },
        "id": "iqBw3wTRFkyH",
        "outputId": "978c69dc-4e5e-42a0-8866-80e16a5ce0a7"
      },
      "execution_count": 10,
      "outputs": [
        {
          "output_type": "stream",
          "name": "stdout",
          "text": [
            "Formato do conjunto de treinamento: (60000, 28, 28), (60000,)\n",
            "Formato do conjunto de teste: (10000, 28, 28), (10000,)\n",
            "Tipo dos dados: uint8\n"
          ]
        }
      ]
    },
    {
      "cell_type": "code",
      "source": [
        "# Visualizando uma amostra de imagens\n",
        "plt.figure(figsize=(10, 5))\n",
        "for i in range(6):\n",
        "    plt.subplot(2, 3, i+1)\n",
        "    plt.imshow(x_train[i], cmap='gray')\n",
        "    plt.title(f\"Rótulo: {y_train[i]}\")\n",
        "    plt.axis('off')\n",
        "plt.show()"
      ],
      "metadata": {
        "colab": {
          "base_uri": "https://localhost:8080/",
          "height": 444
        },
        "id": "VULJ4WPw_xyX",
        "outputId": "e3e97ffd-9a71-490b-8a70-e7571868c911"
      },
      "execution_count": 13,
      "outputs": [
        {
          "output_type": "display_data",
          "data": {
            "text/plain": [
              "<Figure size 1000x500 with 6 Axes>"
            ],
            "image/png": "[encoded data removed]"
          },
          "metadata": {}
        }
      ]
    }
  ]
}