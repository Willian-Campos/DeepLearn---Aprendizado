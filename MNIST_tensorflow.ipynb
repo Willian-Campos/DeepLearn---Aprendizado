{
  "nbformat": 4,
  "nbformat_minor": 0,
  "metadata": {
    "colab": {
      "provenance": [],
      "gpuType": "T4",
      "authorship_tag": "ABX9TyNfUR1T7AY5fKhh/whXjHpq",
      "include_colab_link": true
    },
    "kernelspec": {
      "name": "python3",
      "display_name": "Python 3"
    },
    "language_info": {
      "name": "python"
    },
    "accelerator": "GPU"
  },
  "cells": [
    {
      "cell_type": "markdown",
      "metadata": {
        "id": "view-in-github",
        "colab_type": "text"
      },
      "source": [
        "<a href=\"https://colab.research.google.com/github/Willian-Campos/DeepLearn-Apprenticeship/blob/main/MNIST_tensorflow.ipynb\" target=\"_parent\"><img src=\"https://colab.research.google.com/assets/colab-badge.svg\" alt=\"Open In Colab\"/></a>"
      ]
    },
    {
      "cell_type": "code",
      "execution_count": 2,
      "metadata": {
        "id": "9Pys3kzGwjio"
      },
      "outputs": [],
      "source": [
        "import tensorflow as tf"
      ]
    },
    {
      "cell_type": "markdown",
      "source": [
        "## O que é o MNIST\n",
        "\n",
        "O dataset MNIST (Modified National Institute of Standards and Technology database) é um conjunto de dados amplamente utilizado na área de aprendizado de máquina e visão computacional. Ele consiste em imagens de dígitos numéricos de 0 a 9, escritas à mão, e é projetado para ser um benchmark padrão para algoritmos de classificação."
      ],
      "metadata": {
        "id": "XpNicu3_5zwr"
      }
    },
    {
      "cell_type": "markdown",
      "source": [
        "## Por quê Tensorflow?\n",
        "\n",
        "Comunidade ativa: Tem uma vasta comunidade de desenvolvedores e suporte oficial do Google, com documentação detalhada e recursos didáticos.\n",
        "\n",
        "Adoção por empresas e academias: É amplamente utilizado em produção e pesquisa por empresas de tecnologia, startups, e instituições acadêmicas ao redor do mundo.\n",
        "\n",
        "Open source: Por ser gratuito e de código aberto, é acessível para desenvolvedores de todos os níveis."
      ],
      "metadata": {
        "id": "IQia7dru6yOl"
      }
    },
    {
      "cell_type": "markdown",
      "source": [
        "## Bibliotecas"
      ],
      "metadata": {
        "id": "Z2ykuhOf8Tr1"
      }
    },
    {
      "cell_type": "code",
      "source": [
        "# ML\n",
        "import tensorflow as tf\n",
        "\n",
        "# Visualização\n",
        "import plotly.express as px\n",
        "import plotly.subplots as sp"
      ],
      "metadata": {
        "id": "2kf02P9B7N5c"
      },
      "execution_count": null,
      "outputs": []
    },
    {
      "cell_type": "code",
      "source": [
        "# Carregando o dataset MNIST diretamente do TensorFlow\n",
        "(x_train, y_train), (x_test, y_test) = tf.keras.datasets.mnist.load_data() #load_data(): É uma função fornecida pelo TensorFlow dentro de tf.keras.datasets.\n",
        "\n",
        "# x_train: Imagens de entrada para treinamento.\n",
        "# y_train: Rótulos correspondentes às imagens do treinamento.\n",
        "# x_test: Imagens de entrada para teste.\n",
        "# y_test: Rótulos correspondentes às imagens do teste."
      ],
      "metadata": {
        "id": "gNIBtSsV_3MQ"
      },
      "execution_count": null,
      "outputs": []
    },
    {
      "cell_type": "markdown",
      "source": [
        "| Variável    | Tipo         | Dimensão         | Descrição                                                                                          |\n",
        "|-------------|--------------|------------------|--------------------------------------------------------------------------------------------------|\n",
        "| `x_train`   | NumPy Array  | (60000, 28, 28)  | 60.000 imagens para treinamento. Cada imagem é uma matriz 28x28 com valores inteiros representando a intensidade de brilho (de 0 a 255). |\n",
        "| `y_train`   | NumPy Array  | (60000,)         | 60.000 rótulos associados às imagens de treinamento. Cada rótulo é um número de 0 a 9 que indica o dígito representado na imagem. |\n",
        "| `x_test`    | NumPy Array  | (10000, 28, 28)  | 10.000 imagens para teste. O formato é idêntico ao do conjunto de treinamento, mas usado para avaliar o desempenho do modelo. |\n",
        "| `y_test`    | NumPy Array  | (10000,)         | 10.000 rótulos associados às imagens de teste.                                                   |"
      ],
      "metadata": {
        "id": "6927rQ0UAqEG"
      }
    },
    {
      "cell_type": "code",
      "source": [
        "\n",
        "\n",
        "\n",
        "\n",
        "\n",
        "\n",
        "\n",
        "\n",
        "# Explorando os dados\n",
        "print(f\"Formato do conjunto de treinamento: {x_train.shape}, {y_train.shape}\")\n",
        "print(f\"Formato do conjunto de teste: {x_test.shape}, {y_test.shape}\")\n",
        "print(f\"Tipo dos dados: {x_train.dtype}\")\n",
        "\n",
        "# Visualizando uma amostra de imagens\n",
        "import matplotlib.pyplot as plt\n",
        "\n",
        "plt.figure(figsize=(10, 5))\n",
        "for i in range(6):\n",
        "    plt.subplot(2, 3, i+1)\n",
        "    plt.imshow(x_train[i], cmap='gray')\n",
        "    plt.title(f\"Rótulo: {y_train[i]}\")\n",
        "    plt.axis('off')\n",
        "plt.show()"
      ],
      "metadata": {
        "id": "VULJ4WPw_xyX"
      },
      "execution_count": null,
      "outputs": []
    }
  ]
}