{
 "cells": [
  {
   "cell_type": "markdown",
   "metadata": {
    "colab_type": "text",
    "id": "view-in-github"
   },
   "source": [
    "<a href=\"https://colab.research.google.com/github/Willian-Campos/DeepLearn-Apprenticeship/blob/main/MNIST_Tensorflow/MNIST_tensorflow.ipynb\" target=\"_parent\"><img src=\"https://colab.research.google.com/assets/colab-badge.svg\" alt=\"Open In Colab\"/></a>"
   ]
  },
  {
   "cell_type": "code",
   "execution_count": 1,
   "metadata": {},
   "outputs": [
    {
     "data": {
      "text/plain": [
       "'C:\\\\Users\\\\Bill_\\\\anaconda3\\\\envs\\\\DeepLearn\\\\python.exe'"
      ]
     },
     "execution_count": 1,
     "metadata": {},
     "output_type": "execute_result"
    }
   ],
   "source": [
    "# Confirmando qual ambiente meu python está rodando\n",
    "import sys\n",
    "sys.executable"
   ]
  },
  {
   "cell_type": "markdown",
   "metadata": {
    "id": "XpNicu3_5zwr"
   },
   "source": [
    "## O que é o MNIST\n",
    "\n",
    "O dataset MNIST (Modified National Institute of Standards and Technology database) é um conjunto de dados amplamente utilizado na área de aprendizado de máquina e visão computacional. Ele consiste em imagens de dígitos numéricos de 0 a 9, escritas à mão, e é projetado para ser um benchmark padrão para algoritmos de classificação."
   ]
  },
  {
   "cell_type": "markdown",
   "metadata": {
    "id": "IQia7dru6yOl"
   },
   "source": [
    "## Por quê Tensorflow?\n",
    "\n",
    "Comunidade ativa: Tem uma vasta comunidade de desenvolvedores e suporte oficial do Google, com documentação detalhada e recursos didáticos.\n",
    "\n",
    "Adoção por empresas e academias: É amplamente utilizado em produção e pesquisa por empresas de tecnologia, startups, e instituições acadêmicas ao redor do mundo.\n",
    "\n",
    "Open source: Por ser gratuito e de código aberto, é acessível para desenvolvedores de todos os níveis."
   ]
  },
  {
   "cell_type": "markdown",
   "metadata": {
    "id": "Z2ykuhOf8Tr1"
   },
   "source": [
    "## Bibliotecas"
   ]
  },
  {
   "cell_type": "code",
   "execution_count": 47,
   "metadata": {
    "id": "2kf02P9B7N5c",
    "scrolled": true
   },
   "outputs": [],
   "source": [
    "# ML\n",
    "import tensorflow as tf\n",
    "from tensorflow.keras.utils import to_categorical # Usado para o One-Hot-Encoding\n",
    "\n",
    "# Visualização\n",
    "import plotly.express as px\n",
    "import plotly.subplots as sp\n",
    "import matplotlib.pyplot as plt\n",
    "\n",
    "# Matemática/Estatistica\n",
    "import numpy as np"
   ]
  },
  {
   "cell_type": "code",
   "execution_count": 3,
   "metadata": {
    "colab": {
     "base_uri": "https://localhost:8080/"
    },
    "id": "gNIBtSsV_3MQ",
    "outputId": "00abb7a5-9d6b-412f-ace6-d5dbb18e20e1"
   },
   "outputs": [],
   "source": [
    "# Carregando o dataset MNIST diretamente do TensorFlow\n",
    "(x_train, y_train), (x_test, y_test) = tf.keras.datasets.mnist.load_data() #load_data(): É uma função fornecida pelo TensorFlow dentro de tf.keras.datasets.\n",
    "\n",
    "# x_train: Imagens de entrada para treinamento.\n",
    "# y_train: Rótulos correspondentes às imagens do treinamento.\n",
    "# x_test: Imagens de entrada para teste.\n",
    "# y_test: Rótulos correspondentes às imagens do teste."
   ]
  },
  {
   "cell_type": "markdown",
   "metadata": {},
   "source": [
    "# Entendendo os Dados"
   ]
  },
  {
   "cell_type": "markdown",
   "metadata": {
    "id": "6927rQ0UAqEG"
   },
   "source": [
    "| Variável    | Tipo         | Dimensão         | Descrição                                                                                          |\n",
    "|-------------|--------------|------------------|--------------------------------------------------------------------------------------------------|\n",
    "| `x_train`   | NumPy Array  | (60000, 28, 28)  | 60.000 imagens para treinamento. Cada imagem é uma matriz 28x28 com valores inteiros representando a intensidade de brilho (de 0 a 255). |\n",
    "| `y_train`   | NumPy Array  | (60000,)         | 60.000 rótulos associados às imagens de treinamento. Cada rótulo é um número de 0 a 9 que indica o dígito representado na imagem. |\n",
    "| `x_test`    | NumPy Array  | (10000, 28, 28)  | 10.000 imagens para teste. O formato é idêntico ao do conjunto de treinamento, mas usado para avaliar o desempenho do modelo. |\n",
    "| `y_test`    | NumPy Array  | (10000,)         | 10.000 rótulos associados às imagens de teste.                                                   |"
   ]
  },
  {
   "cell_type": "code",
   "execution_count": 4,
   "metadata": {
    "colab": {
     "base_uri": "https://localhost:8080/"
    },
    "id": "GRWqbUTOChEt",
    "outputId": "d3ed00c5-e210-4332-ea7c-835016d34bc3"
   },
   "outputs": [
    {
     "name": "stdout",
     "output_type": "stream",
     "text": [
      "x_train: (60000, 28, 28), y_train: (60000,)\n",
      "x_test: (10000, 28, 28), y_test: (10000,)\n",
      "\n",
      "Rótulo da primeira imagem de treinamento: 5\n",
      "\n",
      "Matriz de pixels da primeira imagem:\n",
      "\n",
      "[[  0   0   0   0   0   0   0   0   0   0   0   0   0   0   0   0   0   0\n",
      "    0   0   0   0   0   0   0   0   0   0]\n",
      " [  0   0   0   0   0   0   0   0   0   0   0   0   0   0   0   0   0   0\n",
      "    0   0   0   0   0   0   0   0   0   0]\n",
      " [  0   0   0   0   0   0   0   0   0   0   0   0   0   0   0   0   0   0\n",
      "    0   0   0   0   0   0   0   0   0   0]\n",
      " [  0   0   0   0   0   0   0   0   0   0   0   0   0   0   0   0   0   0\n",
      "    0   0   0   0   0   0   0   0   0   0]\n",
      " [  0   0   0   0   0   0   0   0   0   0   0   0   0   0   0   0   0   0\n",
      "    0   0   0   0   0   0   0   0   0   0]\n",
      " [  0   0   0   0   0   0   0   0   0   0   0   0   3  18  18  18 126 136\n",
      "  175  26 166 255 247 127   0   0   0   0]\n",
      " [  0   0   0   0   0   0   0   0  30  36  94 154 170 253 253 253 253 253\n",
      "  225 172 253 242 195  64   0   0   0   0]\n",
      " [  0   0   0   0   0   0   0  49 238 253 253 253 253 253 253 253 253 251\n",
      "   93  82  82  56  39   0   0   0   0   0]\n",
      " [  0   0   0   0   0   0   0  18 219 253 253 253 253 253 198 182 247 241\n",
      "    0   0   0   0   0   0   0   0   0   0]\n",
      " [  0   0   0   0   0   0   0   0  80 156 107 253 253 205  11   0  43 154\n",
      "    0   0   0   0   0   0   0   0   0   0]\n",
      " [  0   0   0   0   0   0   0   0   0  14   1 154 253  90   0   0   0   0\n",
      "    0   0   0   0   0   0   0   0   0   0]\n",
      " [  0   0   0   0   0   0   0   0   0   0   0 139 253 190   2   0   0   0\n",
      "    0   0   0   0   0   0   0   0   0   0]\n",
      " [  0   0   0   0   0   0   0   0   0   0   0  11 190 253  70   0   0   0\n",
      "    0   0   0   0   0   0   0   0   0   0]\n",
      " [  0   0   0   0   0   0   0   0   0   0   0   0  35 241 225 160 108   1\n",
      "    0   0   0   0   0   0   0   0   0   0]\n",
      " [  0   0   0   0   0   0   0   0   0   0   0   0   0  81 240 253 253 119\n",
      "   25   0   0   0   0   0   0   0   0   0]\n",
      " [  0   0   0   0   0   0   0   0   0   0   0   0   0   0  45 186 253 253\n",
      "  150  27   0   0   0   0   0   0   0   0]\n",
      " [  0   0   0   0   0   0   0   0   0   0   0   0   0   0   0  16  93 252\n",
      "  253 187   0   0   0   0   0   0   0   0]\n",
      " [  0   0   0   0   0   0   0   0   0   0   0   0   0   0   0   0   0 249\n",
      "  253 249  64   0   0   0   0   0   0   0]\n",
      " [  0   0   0   0   0   0   0   0   0   0   0   0   0   0  46 130 183 253\n",
      "  253 207   2   0   0   0   0   0   0   0]\n",
      " [  0   0   0   0   0   0   0   0   0   0   0   0  39 148 229 253 253 253\n",
      "  250 182   0   0   0   0   0   0   0   0]\n",
      " [  0   0   0   0   0   0   0   0   0   0  24 114 221 253 253 253 253 201\n",
      "   78   0   0   0   0   0   0   0   0   0]\n",
      " [  0   0   0   0   0   0   0   0  23  66 213 253 253 253 253 198  81   2\n",
      "    0   0   0   0   0   0   0   0   0   0]\n",
      " [  0   0   0   0   0   0  18 171 219 253 253 253 253 195  80   9   0   0\n",
      "    0   0   0   0   0   0   0   0   0   0]\n",
      " [  0   0   0   0  55 172 226 253 253 253 253 244 133  11   0   0   0   0\n",
      "    0   0   0   0   0   0   0   0   0   0]\n",
      " [  0   0   0   0 136 253 253 253 212 135 132  16   0   0   0   0   0   0\n",
      "    0   0   0   0   0   0   0   0   0   0]\n",
      " [  0   0   0   0   0   0   0   0   0   0   0   0   0   0   0   0   0   0\n",
      "    0   0   0   0   0   0   0   0   0   0]\n",
      " [  0   0   0   0   0   0   0   0   0   0   0   0   0   0   0   0   0   0\n",
      "    0   0   0   0   0   0   0   0   0   0]\n",
      " [  0   0   0   0   0   0   0   0   0   0   0   0   0   0   0   0   0   0\n",
      "    0   0   0   0   0   0   0   0   0   0]]\n"
     ]
    }
   ],
   "source": [
    "# Verificando os tamanhos dos conjuntos\n",
    "print(f\"x_train: {x_train.shape}, y_train: {y_train.shape}\")\n",
    "print(f\"x_test: {x_test.shape}, y_test: {y_test.shape}\")\n",
    "\n",
    "# Exemplo de um rótulo e sua imagem associada\n",
    "print(f\"\\nRótulo da primeira imagem de treinamento: {y_train[0]}\")\n",
    "\n",
    "# Visualizando a matriz de pixels da primeira imagem\n",
    "print(f\"\\nMatriz de pixels da primeira imagem:\\n\\n{x_train[0]}\")"
   ]
  },
  {
   "cell_type": "code",
   "execution_count": 5,
   "metadata": {
    "colab": {
     "base_uri": "https://localhost:8080/",
     "height": 444
    },
    "id": "VULJ4WPw_xyX",
    "outputId": "e3e97ffd-9a71-490b-8a70-e7571868c911"
   },
   "outputs": [
    {
     "data": {
      "image/png": "[encoded data removed]",
      "text/plain": [
       "<Figure size 1000x500 with 6 Axes>"
      ]
     },
     "metadata": {},
     "output_type": "display_data"
    }
   ],
   "source": [
    "# Visualizando uma amostra de imagens\n",
    "plt.figure(figsize=(10, 5))\n",
    "for i in range(6):\n",
    "    plt.subplot(2, 3, i+1)\n",
    "    plt.imshow(x_train[i], cmap='gray')\n",
    "    plt.title(f\"Rótulo: {y_train[i]}\")\n",
    "    plt.axis('off')\n",
    "plt.show()"
   ]
  },
  {
   "cell_type": "markdown",
   "metadata": {},
   "source": [
    "# Ajeitando os Dados"
   ]
  },
  {
   "cell_type": "markdown",
   "metadata": {},
   "source": [
    "### Normalização dos valores\n",
    "<br>\n",
    "\n",
    "##### Para o modelo de aprendizado ter melhor desempenho, os valores do brilho que variam de 0 a 255 vão agora varior do 0 a 1.\n",
    "<br><br>\n",
    "\n",
    "##### * Evita problemas de escala: Redes neurais trabalham melhor quando os dados de entrada estão em escalas semelhantes. Valores muito altos podem causar problemas numéricos, como gradientes instáveis ou dificuldades no aprendizado.\n",
    "<br>\n",
    "\n",
    "##### * Melhora a convergência: Normalizar os dados acelera o treinamento do modelo, pois os gradientes gerados durante o processo de retropropagação tendem a ser mais estáveis.\n",
    "<br>\n",
    "\n",
    "##### * Ajuda em redes profundas: Em redes neurais profundas, valores não normalizados podem levar à saturação de funções de ativação como sigmoid, resultando no problema do gradiente \"desvanecente\". Embora o ReLU (comumente usado hoje) seja menos afetado, a normalização ainda melhora o desempenho."
   ]
  },
  {
   "cell_type": "code",
   "execution_count": 6,
   "metadata": {},
   "outputs": [],
   "source": [
    "# Normalizando os dados\n",
    "x_train = x_train / 255.0\n",
    "x_test = x_test / 255.0"
   ]
  },
  {
   "cell_type": "code",
   "execution_count": 7,
   "metadata": {},
   "outputs": [
    {
     "name": "stdout",
     "output_type": "stream",
     "text": [
      "\n",
      "Matriz de pixels da primeira imagem:\n",
      "\n",
      "[[0.         0.         0.         0.         0.         0.\n",
      "  0.         0.         0.         0.         0.         0.\n",
      "  0.         0.         0.         0.         0.         0.\n",
      "  0.         0.         0.         0.         0.         0.\n",
      "  0.         0.         0.         0.        ]\n",
      " [0.         0.         0.         0.         0.         0.\n",
      "  0.         0.         0.         0.         0.         0.\n",
      "  0.         0.         0.         0.         0.         0.\n",
      "  0.         0.         0.         0.         0.         0.\n",
      "  0.         0.         0.         0.        ]\n",
      " [0.         0.         0.         0.         0.         0.\n",
      "  0.         0.         0.         0.         0.         0.\n",
      "  0.         0.         0.         0.         0.         0.\n",
      "  0.         0.         0.         0.         0.         0.\n",
      "  0.         0.         0.         0.        ]\n",
      " [0.         0.         0.         0.         0.         0.\n",
      "  0.         0.         0.         0.         0.         0.\n",
      "  0.         0.         0.         0.         0.         0.\n",
      "  0.         0.         0.         0.         0.         0.\n",
      "  0.         0.         0.         0.        ]\n",
      " [0.         0.         0.         0.         0.         0.\n",
      "  0.         0.         0.         0.         0.         0.\n",
      "  0.         0.         0.         0.         0.         0.\n",
      "  0.         0.         0.         0.         0.         0.\n",
      "  0.         0.         0.         0.        ]\n",
      " [0.         0.         0.         0.         0.         0.\n",
      "  0.         0.         0.         0.         0.         0.\n",
      "  0.01176471 0.07058824 0.07058824 0.07058824 0.49411765 0.53333333\n",
      "  0.68627451 0.10196078 0.65098039 1.         0.96862745 0.49803922\n",
      "  0.         0.         0.         0.        ]\n",
      " [0.         0.         0.         0.         0.         0.\n",
      "  0.         0.         0.11764706 0.14117647 0.36862745 0.60392157\n",
      "  0.66666667 0.99215686 0.99215686 0.99215686 0.99215686 0.99215686\n",
      "  0.88235294 0.6745098  0.99215686 0.94901961 0.76470588 0.25098039\n",
      "  0.         0.         0.         0.        ]\n",
      " [0.         0.         0.         0.         0.         0.\n",
      "  0.         0.19215686 0.93333333 0.99215686 0.99215686 0.99215686\n",
      "  0.99215686 0.99215686 0.99215686 0.99215686 0.99215686 0.98431373\n",
      "  0.36470588 0.32156863 0.32156863 0.21960784 0.15294118 0.\n",
      "  0.         0.         0.         0.        ]\n",
      " [0.         0.         0.         0.         0.         0.\n",
      "  0.         0.07058824 0.85882353 0.99215686 0.99215686 0.99215686\n",
      "  0.99215686 0.99215686 0.77647059 0.71372549 0.96862745 0.94509804\n",
      "  0.         0.         0.         0.         0.         0.\n",
      "  0.         0.         0.         0.        ]\n",
      " [0.         0.         0.         0.         0.         0.\n",
      "  0.         0.         0.31372549 0.61176471 0.41960784 0.99215686\n",
      "  0.99215686 0.80392157 0.04313725 0.         0.16862745 0.60392157\n",
      "  0.         0.         0.         0.         0.         0.\n",
      "  0.         0.         0.         0.        ]\n",
      " [0.         0.         0.         0.         0.         0.\n",
      "  0.         0.         0.         0.05490196 0.00392157 0.60392157\n",
      "  0.99215686 0.35294118 0.         0.         0.         0.\n",
      "  0.         0.         0.         0.         0.         0.\n",
      "  0.         0.         0.         0.        ]\n",
      " [0.         0.         0.         0.         0.         0.\n",
      "  0.         0.         0.         0.         0.         0.54509804\n",
      "  0.99215686 0.74509804 0.00784314 0.         0.         0.\n",
      "  0.         0.         0.         0.         0.         0.\n",
      "  0.         0.         0.         0.        ]\n",
      " [0.         0.         0.         0.         0.         0.\n",
      "  0.         0.         0.         0.         0.         0.04313725\n",
      "  0.74509804 0.99215686 0.2745098  0.         0.         0.\n",
      "  0.         0.         0.         0.         0.         0.\n",
      "  0.         0.         0.         0.        ]\n",
      " [0.         0.         0.         0.         0.         0.\n",
      "  0.         0.         0.         0.         0.         0.\n",
      "  0.1372549  0.94509804 0.88235294 0.62745098 0.42352941 0.00392157\n",
      "  0.         0.         0.         0.         0.         0.\n",
      "  0.         0.         0.         0.        ]\n",
      " [0.         0.         0.         0.         0.         0.\n",
      "  0.         0.         0.         0.         0.         0.\n",
      "  0.         0.31764706 0.94117647 0.99215686 0.99215686 0.46666667\n",
      "  0.09803922 0.         0.         0.         0.         0.\n",
      "  0.         0.         0.         0.        ]\n",
      " [0.         0.         0.         0.         0.         0.\n",
      "  0.         0.         0.         0.         0.         0.\n",
      "  0.         0.         0.17647059 0.72941176 0.99215686 0.99215686\n",
      "  0.58823529 0.10588235 0.         0.         0.         0.\n",
      "  0.         0.         0.         0.        ]\n",
      " [0.         0.         0.         0.         0.         0.\n",
      "  0.         0.         0.         0.         0.         0.\n",
      "  0.         0.         0.         0.0627451  0.36470588 0.98823529\n",
      "  0.99215686 0.73333333 0.         0.         0.         0.\n",
      "  0.         0.         0.         0.        ]\n",
      " [0.         0.         0.         0.         0.         0.\n",
      "  0.         0.         0.         0.         0.         0.\n",
      "  0.         0.         0.         0.         0.         0.97647059\n",
      "  0.99215686 0.97647059 0.25098039 0.         0.         0.\n",
      "  0.         0.         0.         0.        ]\n",
      " [0.         0.         0.         0.         0.         0.\n",
      "  0.         0.         0.         0.         0.         0.\n",
      "  0.         0.         0.18039216 0.50980392 0.71764706 0.99215686\n",
      "  0.99215686 0.81176471 0.00784314 0.         0.         0.\n",
      "  0.         0.         0.         0.        ]\n",
      " [0.         0.         0.         0.         0.         0.\n",
      "  0.         0.         0.         0.         0.         0.\n",
      "  0.15294118 0.58039216 0.89803922 0.99215686 0.99215686 0.99215686\n",
      "  0.98039216 0.71372549 0.         0.         0.         0.\n",
      "  0.         0.         0.         0.        ]\n",
      " [0.         0.         0.         0.         0.         0.\n",
      "  0.         0.         0.         0.         0.09411765 0.44705882\n",
      "  0.86666667 0.99215686 0.99215686 0.99215686 0.99215686 0.78823529\n",
      "  0.30588235 0.         0.         0.         0.         0.\n",
      "  0.         0.         0.         0.        ]\n",
      " [0.         0.         0.         0.         0.         0.\n",
      "  0.         0.         0.09019608 0.25882353 0.83529412 0.99215686\n",
      "  0.99215686 0.99215686 0.99215686 0.77647059 0.31764706 0.00784314\n",
      "  0.         0.         0.         0.         0.         0.\n",
      "  0.         0.         0.         0.        ]\n",
      " [0.         0.         0.         0.         0.         0.\n",
      "  0.07058824 0.67058824 0.85882353 0.99215686 0.99215686 0.99215686\n",
      "  0.99215686 0.76470588 0.31372549 0.03529412 0.         0.\n",
      "  0.         0.         0.         0.         0.         0.\n",
      "  0.         0.         0.         0.        ]\n",
      " [0.         0.         0.         0.         0.21568627 0.6745098\n",
      "  0.88627451 0.99215686 0.99215686 0.99215686 0.99215686 0.95686275\n",
      "  0.52156863 0.04313725 0.         0.         0.         0.\n",
      "  0.         0.         0.         0.         0.         0.\n",
      "  0.         0.         0.         0.        ]\n",
      " [0.         0.         0.         0.         0.53333333 0.99215686\n",
      "  0.99215686 0.99215686 0.83137255 0.52941176 0.51764706 0.0627451\n",
      "  0.         0.         0.         0.         0.         0.\n",
      "  0.         0.         0.         0.         0.         0.\n",
      "  0.         0.         0.         0.        ]\n",
      " [0.         0.         0.         0.         0.         0.\n",
      "  0.         0.         0.         0.         0.         0.\n",
      "  0.         0.         0.         0.         0.         0.\n",
      "  0.         0.         0.         0.         0.         0.\n",
      "  0.         0.         0.         0.        ]\n",
      " [0.         0.         0.         0.         0.         0.\n",
      "  0.         0.         0.         0.         0.         0.\n",
      "  0.         0.         0.         0.         0.         0.\n",
      "  0.         0.         0.         0.         0.         0.\n",
      "  0.         0.         0.         0.        ]\n",
      " [0.         0.         0.         0.         0.         0.\n",
      "  0.         0.         0.         0.         0.         0.\n",
      "  0.         0.         0.         0.         0.         0.\n",
      "  0.         0.         0.         0.         0.         0.\n",
      "  0.         0.         0.         0.        ]]\n"
     ]
    }
   ],
   "source": [
    "# Verificando como ficou depois da normalização\n",
    "print(f\"\\nMatriz de pixels da primeira imagem:\\n\\n{x_train[0]}\")"
   ]
  },
  {
   "cell_type": "markdown",
   "metadata": {},
   "source": [
    "### Por que o one-hot encoding é necessário?\n",
    "\n",
    "Os rótulos do MNIST variam de **0 a 9**, e inicialmente eles estão em formato de **inteiros**. No entanto, o formato necessário depende da camada de saída da rede:\n",
    "\n",
    "- **Saída da rede (softmax):**  \n",
    "  Em muitas redes, a camada de saída usa a função de ativação `softmax`, que retorna um vetor de probabilidades para cada classe. Para que isso funcione corretamente, os rótulos devem ser representados como vetores de **one-hot encoding**.\n",
    "\n",
    "  **Exemplo:**  \n",
    "  - Rótulo original: `3`  \n",
    "  - One-hot encoding: `[0, 0, 0, 1, 0, 0, 0, 0, 0, 0]`\n",
    "\n",
    "- **Cálculo da perda (categorical_crossentropy):**  \n",
    "  A função de perda usada em classificação, como `categorical_crossentropy`, espera que os rótulos estejam no formato de **one-hot encoding** para comparar com a saída da rede."
   ]
  },
  {
   "cell_type": "code",
   "execution_count": 8,
   "metadata": {},
   "outputs": [],
   "source": [
    "# Convertendo os rótulos para one-hot encoding\n",
    "y_train = to_categorical(y_train, num_classes=10)\n",
    "y_test = to_categorical(y_test, num_classes=10)"
   ]
  },
  {
   "cell_type": "code",
   "execution_count": 9,
   "metadata": {},
   "outputs": [
    {
     "name": "stdout",
     "output_type": "stream",
     "text": [
      "[0. 0. 0. 0. 0. 1. 0. 0. 0. 0.]\n",
      "[1. 0. 0. 0. 0. 0. 0. 0. 0. 0.]\n",
      "[0. 0. 0. 0. 1. 0. 0. 0. 0. 0.]\n",
      "[0. 1. 0. 0. 0. 0. 0. 0. 0. 0.]\n",
      "[0. 0. 0. 0. 0. 0. 0. 0. 0. 1.]\n"
     ]
    }
   ],
   "source": [
    "# Mostrando como que ficou a estrutura\n",
    "x = 0\n",
    "while x < 5:\n",
    "    print(y_train[x])\n",
    "    x=x+1"
   ]
  },
  {
   "cell_type": "markdown",
   "metadata": {},
   "source": [
    "### Construção do Modelo"
   ]
  },
  {
   "cell_type": "markdown",
   "metadata": {},
   "source": [
    "#### Função de Ativação\n",
    "<br>\n",
    "\n",
    "##### A função de ativação é um dos elementos mais importantes em uma rede neural, pois ela decide como o resultado de um neurônio será transformado antes de ser passado para a próxima camada. Sem uma função de ativação, a rede neural se comportaria como um modelo linear, incapaz de lidar com relações complexas e não-lineares nos dados.\n",
    "<br>\n",
    "\n",
    "##### Cada função de ativação tem sua fórmula matemática diferente e vai \"moldar\" a função de acordo com essa fórmula, dando um aspecto diferente ao resultado dependendo da função de ativação utilizado. \n",
    "[Função de Ativação](https://www.youtube.com/watch?v=cqDiD2hJTc4&list=PLQH6T1jnIb5J7vugBAauJsFU8Qgvuf-4X&index=5)"
   ]
  },
  {
   "cell_type": "markdown",
   "metadata": {},
   "source": [
    "### Funções de Ativação:\n",
    "\n",
    "| **Função**             | **Fórmula**                             | **Intervalo de saída**     | **Características principais**                                                                                          |\n",
    "|-------------------------|-----------------------------------------|-----------------------------|--------------------------------------------------------------------------------------------------------------------------|\n",
    "| **ReLU**               | \\( \\max(0, x) \\)                      | \\([0, \\infty)\\)           | Simples, eficiente, mas pode sofrer de neurônios mortos.                                                                |\n",
    "| **Leaky ReLU**         | \\( \\max(\\alpha x, x) \\)               | \\((-\\infty, \\infty)\\)     | Corrige o problema da ReLU.                                                                                             |\n",
    "| **Sigmoid**            | \\( \\frac{1}{1 + e^{-x}} \\)            | \\([0, 1]\\)                | Boa para probabilidades, mas sofre de desvanecimento do gradiente.                                                      |\n",
    "| **Tanh**               | \\( \\tanh(x) \\)                        | \\([-1, 1]\\)               | Centralizada em zero, mas também sofre de desvanecimento do gradiente.                                                  |\n",
    "| **Softmax**            | \\( \\frac{e^{x_i}}{\\sum_{j} e^{x_j}} \\) | \\([0, 1]\\) para cada valor | Usada em classificação multiclasse, produz probabilidades.                                                              |\n",
    "| **Swish**              | \\( x \\cdot \\text{sigmoid}(x) \\)       | \\((-\\infty, \\infty)\\)     | Suaviza a ReLU e pode melhorar o desempenho em redes profundas.                                                         |\n",
    "| **ELU**                | \\( f(x) = x \\) se \\( x > 0 \\), \\( \\alpha(e^x - 1) \\) se \\( x \\leq 0 \\) | \\((-\\alpha, \\infty)\\) | Suaviza valores negativos e ajuda em redes profundas.                                                                   |\n",
    "| **GELU**               | \\( f(x) = x \\cdot P(X \\leq x) \\)      | \\((-\\infty, \\infty)\\)     | Função suave e moderna, usada em transformers (ex.: BERT).                                                              |\n",
    "| **Maxout**             | \\( f(x) = \\max(w_1^Tx + b_1, w_2^Tx + b_2) \\) | Não limitado           | Seleciona a máxima entre funções lineares; consome mais memória.                                                        |\n",
    "| **Hard Sigmoid**       | \\( f(x) = \\max(0, \\min(1, 0.2x + 0.5)) \\) | \\([0, 1]\\)             | Aproximação computacionalmente eficiente da Sigmoid.                                                                    |\n",
    "| **Hard Swish**         | \\( f(x) = x \\cdot \\frac{\\max(0, \\min(1, x + 3))}{6} \\) | \\((-\\infty, \\infty)\\) | Aproximação eficiente do Swish, usada em arquiteturas móveis (ex.: MobileNetV3).                                        |\n",
    "| **Softplus**           | \\( f(x) = \\ln(1 + e^x) \\)             | \\((0, \\infty)\\)           | Suaviza a ReLU, mas mais computacionalmente intensiva.                                                                  |\n",
    "| **Thresholded ReLU**   | \\( f(x) = x \\) se \\( x > \\text{threshold} \\), \\( 0 \\) caso contrário | \\([0, \\infty)\\) | Variante da ReLU com limiar controlável.                                                                                |"
   ]
  },
  {
   "cell_type": "markdown",
   "metadata": {},
   "source": [
    "##### Como é meu primeiro contato com CNN vou procurar explicar cada item em detalhes."
   ]
  },
  {
   "cell_type": "code",
   "execution_count": 10,
   "metadata": {},
   "outputs": [],
   "source": [
    "# Definindo o modelo\n",
    "model = tf.keras.models.Sequential()\n",
    "# Sequential faz com que as camadas sejam feitas em sequencia (derrr), mas tem outros modos como o \n",
    "# funcional e o subclassificado, mas para começar o Sequential parece simples e resolve super bem."
   ]
  },
  {
   "cell_type": "markdown",
   "metadata": {},
   "source": [
    "##### Primeira Camada Convolucional"
   ]
  },
  {
   "cell_type": "code",
   "execution_count": 11,
   "metadata": {},
   "outputs": [
    {
     "name": "stderr",
     "output_type": "stream",
     "text": [
      "C:\\Users\\Bill_\\anaconda3\\envs\\DeepLearn\\lib\\site-packages\\keras\\src\\layers\\convolutional\\base_conv.py:107: UserWarning: Do not pass an `input_shape`/`input_dim` argument to a layer. When using Sequential models, prefer using an `Input(shape)` object as the first layer in the model instead.\n",
      "  super().__init__(activity_regularizer=activity_regularizer, **kwargs)\n"
     ]
    },
    {
     "data": {
      "text/plain": [
       "'Esses valores são referentes a dimensão dos valores de entrada, como visto anteriormente as imagens\\ndo MNIST são 28 por 28 pixels, o valor 1 é referente as cores que são preto e branco e não tem \\ncanais de cor.'"
      ]
     },
     "execution_count": 11,
     "metadata": {},
     "output_type": "execute_result"
    }
   ],
   "source": [
    "model.add(tf.keras.layers.Conv2D(32, (3, 3), activation='relu', input_shape=(28, 28, 1)))\n",
    "# Conv2D: \n",
    "'''É um tipo de camada 2D usado para realizar contas matemáticas em redes neurais convolucionais, \n",
    "a convolução é a união das informações obtidas por cada camada e seu resultado final.'''\n",
    "# 32:\n",
    "'''Esse número se refere ao número de filtros que vão ser usados, cada filtro aprende a detectar \n",
    "caracteristicas diferentes na imagem'''\n",
    "# 3, 3:\n",
    "'''Esses são os valores da dimensão dos filtros, no caso 3 pixel de altura e largura respectivamente,\n",
    " eles vão \"varrer\" a imagem para identificar os padrões e é bom que sejam pequenos para não ser\n",
    " muito generalista (do contrário não vai identificar detalhes), mais pra frente podemos brincar com esses\n",
    " valores em pró de encontrar um ponto ótimo nos resultados'''\n",
    "# relu:\n",
    "'''ReLU (Rectified Linear Unit), é a função de ativação do modelo, vou começar com o mais classico e básico,\n",
    " posteriormente é possível rodar com funções de ativação diferentes para comparar.'''\n",
    "# input shape em 28, 28, 1:\n",
    "'''Esses valores são referentes a dimensão dos valores de entrada, como visto anteriormente as imagens\n",
    "do MNIST são 28 por 28 pixels, o valor 1 é referente as cores que são preto e branco e não tem \n",
    "canais de cor.'''"
   ]
  },
  {
   "cell_type": "markdown",
   "metadata": {},
   "source": [
    "##### Camada de Pooling (Redução de Dimensionalidade)"
   ]
  },
  {
   "cell_type": "markdown",
   "metadata": {},
   "source": [
    "#### Pooling\n",
    "<br>\n",
    "\n",
    "##### O pooling é um método de redução da dimensionalidade da imagem, ao aplicar o pooling de 2x2 estamos diminuindo a imagem pela metade, isso ajuda a diminuir a quantidade de calculos feito pela rede(agilidade), da foco apenas onde realmente importa(não perde tempo com bordas ou espaços que não trasem informação) e previne overfitting(deixa mais generalista) deixando mais robusto a pequenas mudanças.\n",
    "<br>\n",
    "\n",
    "##### Então na imagem 28x28 passando max pooling 2x2 o que acontece é que primeiramente vai ser pego os dois primeiros valores da primeira linha, junto aos dois primeiros valores da segunda linha e salvar o maior valor, depois o terceiro e quarto valor da primeira e segunda linha e salvar o maior e assim por diante até acabar a primeira e segunda linha, o mesmo será feito na terceira e quarta linha até que acabe e assim por diante e até que chegue a 27º e 28º linha, sempre formando um quadrado 2x2 e pegando o maior valor, esses valores máximos vão formar uma imagem nova.\n",
    "<br>\n",
    "\n",
    "##### O mesmo também pode ser feito usando a média ao invés do máximo, mas como é um chute inicial preferi por enquanto usar o mais comum em todos os passos. Segue o vídeo abaixo falando sobre pooling:\n",
    "<br>\n",
    "\n",
    "[Pooling](https://www.youtube.com/watch?v=lhX-ftjMIRg)"
   ]
  },
  {
   "cell_type": "code",
   "execution_count": 12,
   "metadata": {},
   "outputs": [
    {
     "data": {
      "text/plain": [
       "'Aqui é definido a área comprimida, no caso 2 pixels de altura por 2 pixels de largura'"
      ]
     },
     "execution_count": 12,
     "metadata": {},
     "output_type": "execute_result"
    }
   ],
   "source": [
    "model.add(tf.keras.layers.MaxPooling2D((2, 2)))\n",
    "# MaxPooling2D:\n",
    "'''Vai comprimir as informações de uma área da imagem e manter as caracteristicas mais importantes, \n",
    "descartando as demais'''\n",
    "# 2, 2:\n",
    "'''Aqui é definido a área comprimida, no caso 2 pixels de altura por 2 pixels de largura'''"
   ]
  },
  {
   "cell_type": "markdown",
   "metadata": {},
   "source": [
    "##### Segunda Camada Convolucional\n",
    "<br>\n",
    "\n",
    "##### Faz a mesma coisa que a primeira camada, porém aqui tem mais filtros(o dobro) e a imagem já passou pelo processo de pooling, então na prática está pegando pequenos detalhes que antes tinham sido visto de forma mais geral."
   ]
  },
  {
   "cell_type": "code",
   "execution_count": 13,
   "metadata": {},
   "outputs": [],
   "source": [
    "model.add(tf.keras.layers.Conv2D(64, (3, 3), activation='relu'))"
   ]
  },
  {
   "cell_type": "markdown",
   "metadata": {},
   "source": [
    "##### Camada Flatten\n",
    "<br>\n",
    "\n",
    "##### Essa camada serve para preparar os dados que estão multidimensionais em uma única dimensão, ou seja, as linhas vão ser empilhadas formando uma única coluna, esse formato é esperado pela camada de saída que espera um vetor 1D."
   ]
  },
  {
   "cell_type": "code",
   "execution_count": 14,
   "metadata": {},
   "outputs": [],
   "source": [
    "model.add(tf.keras.layers.Flatten())"
   ]
  },
  {
   "cell_type": "markdown",
   "metadata": {},
   "source": [
    "##### Camada Densa\n",
    "<br>\n",
    "\n",
    "##### A camada abaixo é uma camada densa, ela é diferente das anteriores que são camadas convolucionais, as camadas anteriores servem para identificar pequenas partes da imagem e a camada densa vai juntar essas partes, como um quebra cabeça, já que ela tem ligação completa com todos neurônios da camada anterior.\n",
    "<br>\n",
    "\n",
    "##### Aqui pode surgir a pergunta, mas por quê usar varios pedaços da imagem se é possível identificar tudo de uma vez? Acontece que separar por partes ajuda a identificar imagens em diferentes situações, mesmo se ela se encontrar em uma posição diferente, estar cortada ou borrada, com a CNN é possível identificar pelo menos uma parte da imagem e o softmax pode dar uma estimativa de quão provavel a imagem seja classificada como tal.\n",
    "<br>\n",
    "\n",
    "##### No link abaixo tem uma explicação mais detalhada por um artigo da didatica tech:\n",
    "[CNN vs DNN](https://didatica.tech/introducao-a-redes-neurais-convolucionais/)"
   ]
  },
  {
   "cell_type": "code",
   "execution_count": 15,
   "metadata": {},
   "outputs": [],
   "source": [
    "model.add(tf.keras.layers.Dense(64, activation='relu'))"
   ]
  },
  {
   "cell_type": "markdown",
   "metadata": {},
   "source": [
    "##### Camada de Saída\n",
    "<br>\n",
    "\n",
    "##### A camada de saída abaixo tem 10 neurônios, um para cada valor do MNIST que vai de 0 a 9 e a função de ativação SOFTMAX vai usar a probabilidade do resultado ser um desses neurônios e vai variar os valores de 0 a 1, sendo 1 mais provavel.\n",
    "<br>\n",
    "\n",
    "##### Exemplo: Vamos dizer que a resposta é 9 então o ideal é que o neurônio que representa 9 chegue próximo de 1, porém outros números/neurônios podem ser similares e ter uma boa pontuação, chegando próximo ou até ultrapassando o neurônio que representa o 9, como por exemplo um valor 7, se for parar pra pensar é só fazer uma barriguinha em baixo do 7 e ele vira o 9. \n",
    "<br>\n",
    "\n",
    "##### Vamos esperar que a segunda camada e a camada densa tragam bons resultados para isso não acontecer  :D "
   ]
  },
  {
   "cell_type": "code",
   "execution_count": 16,
   "metadata": {},
   "outputs": [],
   "source": [
    "model.add(tf.keras.layers.Dense(10, activation='softmax'))"
   ]
  },
  {
   "cell_type": "markdown",
   "metadata": {},
   "source": [
    "##### Compilação do Modelo\n",
    "<br>\n",
    "\n",
    "##### Na compilação vamos definir como o modelo será treinado, atualizando os pesos e avaliando os erros, abaixo vou descrever cada hyperparametro."
   ]
  },
  {
   "cell_type": "code",
   "execution_count": 17,
   "metadata": {},
   "outputs": [
    {
     "data": {
      "text/plain": [
       "'Como nos modelos classicos, aqui são as métricas que podem ser usadas para verificar o quão bem\\no modelo está se comportando, no caso foi usado a acuracidade que mede a proporção de acertos.\\nA métrica usada pode acabar mudando totalmente o comportamento do modelo.\\nNa cédula abaixo deixei link do meu projeto onde faço comparação de métricas.\\n'"
      ]
     },
     "execution_count": 17,
     "metadata": {},
     "output_type": "execute_result"
    }
   ],
   "source": [
    "model.compile(optimizer='adam', \n",
    "              loss='categorical_crossentropy', \n",
    "              metrics=['accuracy'])\n",
    "\n",
    "# Optimizer\n",
    "'''Aqui é onde vai ser calculado/atualizado os pesos durante o treinamento, \n",
    "aqui é usado o famoso gradiente descendente, acesse o link da cédula abaixo para saber mais'''\n",
    "\n",
    "# Adam (Adaptive Moment Estimation)\n",
    "'''Aqui vou precisar tirar um tempo para estudar mais, pois é uma aplicação de matemática \n",
    "    mais profunda, porém Adam é um otimizador que funciona bem para a maioria dos problemas'''\n",
    "    \n",
    "# Loss\n",
    "'''Aqui é a mesma situação de aprendizado de máquina classico/tabular, medido a diferença entre \n",
    "as predições do modelo e os rótulos/resultado para parte do treinamento.\n",
    "\n",
    "Para problemas de multiplas classes geralmente é usado o categorical_crossentropy:\n",
    "Aqui é comparado a saída do softmax(os valores de 0 a 1 que dão as \"probabilidades\") \n",
    "com os rótulos em one-hot encoded, é penalizado as predições erradas para o modelo aprender \n",
    "a ajustar os pesos e melhorar a predição, quanto mais errado maior a penalização.'''\n",
    "\n",
    "# Metrics\n",
    "'''Como nos modelos classicos, aqui são as métricas que podem ser usadas para verificar o quão bem\n",
    "o modelo está se comportando, no caso foi usado a acuracidade que mede a proporção de acertos.\n",
    "A métrica usada pode acabar mudando totalmente o comportamento do modelo.\n",
    "Na cédula abaixo deixei link do meu projeto onde faço comparação de métricas.\n",
    "'''\n",
    "\n"
   ]
  },
  {
   "cell_type": "markdown",
   "metadata": {},
   "source": [
    "##### [Comparação de métricas](https://github.com/Willian-Campos/Classical-MachineLearn-Projects/blob/master/ebac_ciencia-de-dados_projeto-final_streamlit-e-pipeline/colab_projeto_final_credit_scoring_streamlit_pipeline_willian_campos.ipynb)\n",
    "<br>\n",
    "\n",
    "##### [Gradiente Descendente](https://www.youtube.com/watch?v=htfh2xrnlaE&t=985s)"
   ]
  },
  {
   "cell_type": "markdown",
   "metadata": {},
   "source": [
    "##### Treinamento do Modelo"
   ]
  },
  {
   "cell_type": "code",
   "execution_count": 18,
   "metadata": {},
   "outputs": [
    {
     "name": "stdout",
     "output_type": "stream",
     "text": [
      "Epoch 1/5\n",
      "\u001b[1m1000/1000\u001b[0m \u001b[32m━━━━━━━━━━━━━━━━━━━━\u001b[0m\u001b[37m\u001b[0m \u001b[1m14s\u001b[0m 13ms/step - accuracy: 0.9049 - loss: 0.3106 - val_accuracy: 0.9857 - val_loss: 0.0460\n",
      "Epoch 2/5\n",
      "\u001b[1m1000/1000\u001b[0m \u001b[32m━━━━━━━━━━━━━━━━━━━━\u001b[0m\u001b[37m\u001b[0m \u001b[1m12s\u001b[0m 12ms/step - accuracy: 0.9872 - loss: 0.0419 - val_accuracy: 0.9902 - val_loss: 0.0324\n",
      "Epoch 3/5\n",
      "\u001b[1m1000/1000\u001b[0m \u001b[32m━━━━━━━━━━━━━━━━━━━━\u001b[0m\u001b[37m\u001b[0m \u001b[1m12s\u001b[0m 12ms/step - accuracy: 0.9916 - loss: 0.0260 - val_accuracy: 0.9875 - val_loss: 0.0403\n",
      "Epoch 4/5\n",
      "\u001b[1m1000/1000\u001b[0m \u001b[32m━━━━━━━━━━━━━━━━━━━━\u001b[0m\u001b[37m\u001b[0m \u001b[1m12s\u001b[0m 12ms/step - accuracy: 0.9945 - loss: 0.0171 - val_accuracy: 0.9888 - val_loss: 0.0331\n",
      "Epoch 5/5\n",
      "\u001b[1m1000/1000\u001b[0m \u001b[32m━━━━━━━━━━━━━━━━━━━━\u001b[0m\u001b[37m\u001b[0m \u001b[1m12s\u001b[0m 12ms/step - accuracy: 0.9963 - loss: 0.0117 - val_accuracy: 0.9884 - val_loss: 0.0359\n"
     ]
    },
    {
     "data": {
      "text/plain": [
       "\"O batch como o próprio nome sugere são os lotes, nesse caso estamos dividindo em \\n60000 imagens(quantidade do treino) em 60 lotes, ou seja, cada lote tem 1000 imagens \\npara serem analisadas.\\n\\nO epoch é a quantidade de vezes que os dados vão ser analizados, juntando o batch e o epoch\\né como se fosse o cross-validation/bagging do ML classico, porém aqui tem outras implicações:\\n\\n* Os modelos de DL, especialmente CNN's precisam calcular multiplos parametros e dividir em pequenas\\npartes pode evitar que seu CPU/GPU entre em colapso, além de permitir processo em paralelo.\\n* Acelera o treinamento, da pra ir ajustando e aprocimando de um resultado ótimo com maior velocidade.\\n\\n*** Aqui é possível escolher entre 3 técnicas:\\n\\n- BGD/Batch Gradient Descent\\nUsa todas imagens de uma vez, é lento, consome muita memória, resulta em uma atualização muito precisa, \\nporém com uma chance maior de ter overfitting.\\n\\n- SGD/Stochastic Gradient Descent\\nUsa apenas uma amostra por vez para atualizar os pesos, super rapido, generaliza muito bem, mas pode\\ngeneralizar tanto que chega a dar uns resultados nada haver com nada. Aqui talvez fosse bom ter vários\\nepochs\\n\\n- Mini BGD/Mini-Batch Gradient Descent\\nPega o melhor dos dois mundos, pega amostras de imagens definido pelo batch_size, nosso caso 60 e \\nrevisa cada um de acordo com a quantidade de epochs. Dessa forma mantemos um bom resultado e\\ntambém ficamos prontos para dados desconhecidos, dando uma boa generalização.\\n\""
      ]
     },
     "execution_count": 18,
     "metadata": {},
     "output_type": "execute_result"
    }
   ],
   "source": [
    "''' Aqui começamos redimencionando os conjuntos de treino e teste, as CNN precisam que as imagem  \n",
    "em um formato 3D, usando o RESHAPE o -1 indica N imagens, ajustado pelo TensorFlow de acordo com \n",
    "o conjunto passado, 28, 28 são respectivamente altura e largura como já foi visto antes e 1 os \n",
    "canais de cores, onde 1 é escala de cinza.'''\n",
    "x_train = x_train.reshape(-1, 28, 28, 1)\n",
    "x_test = x_test.reshape(-1, 28, 28, 1)\n",
    "\n",
    "# Treinando o modelo\n",
    "history = model.fit(x_train, y_train, epochs=5, batch_size=60, validation_data=(x_test, y_test))\n",
    "# Epochs e batchs\n",
    "'''O batch como o próprio nome sugere são os lotes, nesse caso estamos dividindo em \n",
    "60000 imagens(quantidade do treino) em lotes de tamanho 60, ou seja, temos 1000 batchs para treino.\n",
    "\n",
    "O epoch é a quantidade de vezes que os dados vão ser analizados, juntando o batch e o epoch\n",
    "é como se fosse o cross-validation/bagging do ML classico, porém aqui tem outras implicações:\n",
    "\n",
    "* Os modelos de DL, especialmente CNN's precisam calcular multiplos parametros e dividir em pequenas\n",
    "partes pode evitar que seu CPU/GPU entre em colapso, além de permitir processo em paralelo.\n",
    "* Acelera o treinamento, da pra ir ajustando e aprocimando de um resultado ótimo com maior velocidade.\n",
    "\n",
    "*** Aqui é possível escolher entre 3 técnicas:\n",
    "\n",
    "- BGD/Batch Gradient Descent\n",
    "Usa todas imagens de uma vez, é lento, consome muita memória, resulta em uma atualização muito precisa, \n",
    "porém com uma chance maior de ter overfitting.\n",
    "\n",
    "- SGD/Stochastic Gradient Descent\n",
    "Usa apenas uma amostra por vez para atualizar os pesos, super rapido, generaliza muito bem, mas pode\n",
    "generalizar tanto que chega a dar uns resultados nada haver com nada. Aqui talvez fosse bom ter vários\n",
    "epochs\n",
    "\n",
    "- Mini BGD/Mini-Batch Gradient Descent\n",
    "Pega o melhor dos dois mundos, pega amostras de imagens definido pelo batch_size, nosso caso 60 e \n",
    "revisa cada um de acordo com a quantidade de epochs. Dessa forma mantemos um bom resultado e\n",
    "também ficamos prontos para dados desconhecidos, dando uma boa generalização.\n",
    "'''\n",
    "\n",
    "# Abaixo temos os resultados de cada revisão(EPOCH), a acurácia e perda dos dados de treino e validação.\n",
    "# Ou seja, cada revisão passou por 1000 batchs, cada batch contem 60 imagens."
   ]
  },
  {
   "cell_type": "markdown",
   "metadata": {},
   "source": [
    "##### Avaliação do Modelo"
   ]
  },
  {
   "cell_type": "markdown",
   "metadata": {},
   "source": [
    "##### Como visto acima no último epoch, temos o resultado de acurácia e perda. Aqui como padrão o Keras usa um batch size de 32, então se quiser alterar deve ser especificado como feito abaixo."
   ]
  },
  {
   "cell_type": "code",
   "execution_count": 21,
   "metadata": {},
   "outputs": [
    {
     "name": "stdout",
     "output_type": "stream",
     "text": [
      "167/167 - 1s - 4ms/step - accuracy: 0.9884 - loss: 0.0359\n",
      "\n",
      "Test accuracy: 0.9883999824523926\n"
     ]
    }
   ],
   "source": [
    "# Avaliando a precisão do modelo nos dados de teste\n",
    "test_loss, test_acc = model.evaluate(x_test, y_test, batch_size=60, verbose=2)\n",
    "print('\\nTest accuracy:', test_acc)"
   ]
  },
  {
   "cell_type": "markdown",
   "metadata": {},
   "source": [
    "##### Visualização do Resultado"
   ]
  },
  {
   "cell_type": "code",
   "execution_count": 23,
   "metadata": {},
   "outputs": [
    {
     "data": {
      "image/png": "[encoded data removed]",
      "text/plain": [
       "<Figure size 640x480 with 1 Axes>"
      ]
     },
     "metadata": {},
     "output_type": "display_data"
    }
   ],
   "source": [
    "# Visualizando o histórico de treinamento\n",
    "plt.plot(history.history['accuracy'], label='accuracy')\n",
    "plt.plot(history.history['val_accuracy'], label = 'val_accuracy')\n",
    "plt.xlabel('Epochs')\n",
    "plt.ylabel('Accuracy')\n",
    "plt.legend(loc='lower right')\n",
    "plt.title('Model Accuracy')\n",
    "plt.show()"
   ]
  },
  {
   "cell_type": "markdown",
   "metadata": {},
   "source": [
    "### Predição dos Valores"
   ]
  },
  {
   "cell_type": "markdown",
   "metadata": {},
   "source": [
    "##### Até o momento tudo que foi feito tudo que foi feito anteriormente foi preparar os dados e moldar o treinamento, agora vamos ver como o resultado se comporta.\n",
    "<br>\n",
    "\n",
    "##### Não é necessário incluir o batch size abaixo, aqui ele não vai alterar o desempenho acertivo do modelo, pois o modelo já foi definido anteriormente, na realidade nem precisava ter incluido, mas em outros casos pode ser necessário, pois ele divide o processamento em partes e isso evita que o CPU/GPU sobrecarregue."
   ]
  },
  {
   "cell_type": "code",
   "execution_count": 25,
   "metadata": {},
   "outputs": [
    {
     "name": "stdout",
     "output_type": "stream",
     "text": [
      "\u001b[1m167/167\u001b[0m \u001b[32m━━━━━━━━━━━━━━━━━━━━\u001b[0m\u001b[37m\u001b[0m \u001b[1m1s\u001b[0m 4ms/step\n"
     ]
    }
   ],
   "source": [
    "y_pred_probs = model.predict(x_test, batch_size=60)  # Gerando previsões com o .predict\n",
    "y_pred = y_pred_probs.argmax(axis=1) "
   ]
  },
  {
   "cell_type": "markdown",
   "metadata": {},
   "source": [
    "##### Essa é a saída do y_pred_probs, são os resultados dos 10 neurônios e seus valores em notação ciêntifica, que atrapalha um pouco a visualização."
   ]
  },
  {
   "cell_type": "code",
   "execution_count": 39,
   "metadata": {},
   "outputs": [
    {
     "data": {
      "text/plain": [
       "array([5.0658450e-10, 5.8668689e-08, 3.3248838e-08, 1.4655972e-08,\n",
       "       1.2808804e-10, 2.4094065e-09, 3.2563991e-15, 9.9999988e-01,\n",
       "       3.4134087e-10, 1.8790942e-09], dtype=float32)"
      ]
     },
     "execution_count": 39,
     "metadata": {},
     "output_type": "execute_result"
    }
   ],
   "source": [
    "y_pred_probs[0]"
   ]
  },
  {
   "cell_type": "markdown",
   "metadata": {},
   "source": [
    "##### Para ajudar a visualizar, usei o format na variável temporaria prob usando as 6 casas decimais para mostrar de uma forma absoluta.\n",
    "<br>\n",
    "\n",
    "##### Dessa forma podemos ver que as demais classes ficaram praticamente zeradas enquanto a classe 7 ficou praticamente como 1 (o que fez com que acertasse), abaixo é mostrado simplesmente como 0 e 1, porém na notação ciêntifica acima podemos ver que não é bem assim, é apenas uma SUPER aproximação."
   ]
  },
  {
   "cell_type": "markdown",
   "metadata": {},
   "source": [
    "##### Logo depois vamos o resultado do y_pred da primeira linha sendo 7, isso é possível devido ao argmax aplicado anteriormente, a função argmax retorna o indice da maior probabilidade, passando axis=1 pois queremos que isso seja feito linha a linha."
   ]
  },
  {
   "cell_type": "code",
   "execution_count": 43,
   "metadata": {},
   "outputs": [
    {
     "name": "stdout",
     "output_type": "stream",
     "text": [
      "Probabilidades para a primeira imagem (sem notação científica):\n",
      "Classe 0: 0.000000\n",
      "Classe 1: 0.000000\n",
      "Classe 2: 0.000000\n",
      "Classe 3: 0.000000\n",
      "Classe 4: 0.000000\n",
      "Classe 5: 0.000000\n",
      "Classe 6: 0.000000\n",
      "Classe 7: 1.000000\n",
      "Classe 8: 0.000000\n",
      "Classe 9: 0.000000\n",
      "\n",
      "\n",
      "Resultado final da predição:\n",
      "7\n"
     ]
    }
   ],
   "source": [
    "# Exibe as probabilidades para a primeira imagem sem notação científica\n",
    "print(\"Probabilidades para a primeira imagem (sem notação científica):\")\n",
    "for i, prob in enumerate(y_pred_probs[0]):\n",
    "    print(f\"Classe {i}: {format(prob, '.6f')}\")\n",
    "    \n",
    "print(f\"\\n\\nResultado final da predição:\\n{y_pred[0]}\")"
   ]
  },
  {
   "cell_type": "markdown",
   "metadata": {},
   "source": [
    "### Verificando os erros"
   ]
  },
  {
   "cell_type": "code",
   "execution_count": 26,
   "metadata": {},
   "outputs": [],
   "source": [
    "# Usando argmax para converter cada linha do y_test ao valor correspondente antes de one-hot encoding\n",
    "y_true = y_test.argmax(axis=1)"
   ]
  },
  {
   "cell_type": "code",
   "execution_count": 35,
   "metadata": {},
   "outputs": [
    {
     "name": "stdout",
     "output_type": "stream",
     "text": [
      "Como estava com one-hot encoding: \n",
      "[[0. 0. 0. ... 1. 0. 0.]\n",
      " [0. 0. 1. ... 0. 0. 0.]\n",
      " [0. 1. 0. ... 0. 0. 0.]\n",
      " ...\n",
      " [0. 0. 0. ... 0. 0. 0.]\n",
      " [0. 0. 0. ... 0. 0. 0.]\n",
      " [0. 0. 0. ... 0. 0. 0.]]\n",
      "\n",
      "Como voltou a ser:\n",
      "[7 2 1 ... 4 5 6]\n"
     ]
    }
   ],
   "source": [
    "# Voltando os valores antes do one-hot encoding, como ficou:\n",
    "print(f\"Como estava com one-hot encoding: \\n{y_test}\\n\")\n",
    "print(f\"Como voltou a ser:\\n{y_true}\")"
   ]
  },
  {
   "cell_type": "markdown",
   "metadata": {},
   "source": [
    "##### Aqui foi preparado algumas variáveis pra usar na visualização, usando o x_test (imagens), y_pred (as tentativas) e y_true (as respostas), passando sempre o wrong_indices para indicar a posição dos que foram classificados errados."
   ]
  },
  {
   "cell_type": "code",
   "execution_count": null,
   "metadata": {},
   "outputs": [],
   "source": [
    "# Identificando os índices das previsões incorretas\n",
    "# O i vai percorrer todo y_true e vericar se o indice de pred e true estão diferentes, se sim, ta errado.\n",
    "wrong_indices = [i for i in range(len(y_true)) if y_pred[i] != y_true[i]]"
   ]
  },
  {
   "cell_type": "code",
   "execution_count": 44,
   "metadata": {},
   "outputs": [],
   "source": [
    "# Imagens classificadas de forma errada\n",
    "wrong_images = x_test[wrong_indices]\n",
    "wrong_predictions = y_pred[wrong_indices]  # Respostas preditas erradas\n",
    "true_labels = y_true[wrong_indices]        # Rótulos verdadeiros"
   ]
  },
  {
   "cell_type": "markdown",
   "metadata": {},
   "source": [
    "##### Achei super interessante olhar as imagens e perceber as semelhanças entre o erro e a resposta, mas são esses casos que mostram a importância de uma boa generalização e da captação de pequenos detalhes."
   ]
  },
  {
   "cell_type": "code",
   "execution_count": 45,
   "metadata": {},
   "outputs": [
    {
     "data": {
      "image/png": "[encoded data removed]",
      "text/plain": [
       "<Figure size 1000x1000 with 10 Axes>"
      ]
     },
     "metadata": {},
     "output_type": "display_data"
    }
   ],
   "source": [
    "import matplotlib.pyplot as plt\n",
    "\n",
    "# Plotando algumas imagens classificadas de forma errada\n",
    "num_images = 10  # Número de imagens para mostrar\n",
    "plt.figure(figsize=(10, 10))\n",
    "for i in range(num_images):\n",
    "    plt.subplot(5, 5, i + 1)\n",
    "    plt.imshow(wrong_images[i].reshape(28, 28), cmap='gray')  # Reconstruindo a imagem\n",
    "    plt.title(f\"Pred: {wrong_predictions[i]}, True: {true_labels[i]}\")\n",
    "    plt.axis('off')\n",
    "plt.tight_layout()\n",
    "plt.show()"
   ]
  },
  {
   "cell_type": "code",
   "execution_count": 48,
   "metadata": {},
   "outputs": [],
   "source": [
    "# Comparando as previsões com os rótulos reais\n",
    "correct_predictions = np.sum(y_pred == np.argmax(y_test, axis=1))  # Conta os acertos\n",
    "incorrect_predictions = np.sum(y_pred != np.argmax(y_test, axis=1))  # Conta os erros"
   ]
  },
  {
   "cell_type": "code",
   "execution_count": 49,
   "metadata": {},
   "outputs": [
    {
     "name": "stdout",
     "output_type": "stream",
     "text": [
      "Quantidade de acertos: 9884\n",
      "Quantidade de erros: 116\n"
     ]
    }
   ],
   "source": [
    "print(f\"Quantidade de acertos: {correct_predictions}\")\n",
    "print(f\"Quantidade de erros: {incorrect_predictions}\")"
   ]
  },
  {
   "cell_type": "markdown",
   "metadata": {},
   "source": [
    "### Conclusão\n",
    "<br>\n",
    "\n",
    "##### A construção do modelo de CNN é bem extensa e cheia de hyperparametros, da pra calibrar de diferentes formas dando grande versatilidade e complexidade, acabei não abordando um tunning ou grid-search para um valor ótimo nesse trabalho para não extender muito, pois o intuito era dar um chute inicial e deixar bem detalhado para possíveis estudos, consultdas.\n",
    "<br>\n",
    "\n",
    "##### Ao verificar os erros foi possível perceber o quanto pequenos detalhes podem fazer falta ao dar a correta resposta, isso vai ser feito futuramente em um trabalho a parte de tunning de CNN, provavelmente adicionando mais camadas, neurônios, dando mais opções de função de ativação ou de otimizador, dentre outras alterações."
   ]
  },
  {
   "cell_type": "code",
   "execution_count": 51,
   "metadata": {},
   "outputs": [],
   "source": [
    "model.save('modelo_MNIST.keras')"
   ]
  },
  {
   "cell_type": "code",
   "execution_count": null,
   "metadata": {},
   "outputs": [],
   "source": []
  }
 ],
 "metadata": {
  "accelerator": "GPU",
  "colab": {
   "authorship_tag": "ABX9TyPKIlxxGgmbkKudImb2LHIZ",
   "gpuType": "T4",
   "include_colab_link": true,
   "provenance": []
  },
  "kernelspec": {
   "display_name": "Python 3 (ipykernel)",
   "language": "python",
   "name": "python3"
  },
  "language_info": {
   "codemirror_mode": {
    "name": "ipython",
    "version": 3
   },
   "file_extension": ".py",
   "mimetype": "text/x-python",
   "name": "python",
   "nbconvert_exporter": "python",
   "pygments_lexer": "ipython3",
   "version": "3.9.21"
  }
 },
 "nbformat": 4,
 "nbformat_minor": 4
}
