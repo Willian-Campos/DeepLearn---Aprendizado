{
 "cells": [
  {
   "cell_type": "markdown",
   "id": "2aa0cc46",
   "metadata": {},
   "source": [
    "# Projeto de aprendizado de TTS usando o TTS da Coqui"
   ]
  },
  {
   "cell_type": "code",
   "execution_count": 4,
   "id": "3308c1d7",
   "metadata": {},
   "outputs": [
    {
     "data": {
      "text/plain": [
       "'C:\\\\Users\\\\Bill_\\\\anaconda3\\\\envs\\\\CoquiTTS\\\\python.exe'"
      ]
     },
     "execution_count": 4,
     "metadata": {},
     "output_type": "execute_result"
    }
   ],
   "source": [
    "# Confirmando qual ambiente meu python está rodando\n",
    "import sys\n",
    "sys.executable"
   ]
  },
  {
   "cell_type": "code",
   "execution_count": 9,
   "id": "9b0f4550",
   "metadata": {},
   "outputs": [],
   "source": [
    "# Execute o comando abaixo para instalar o TTS\n",
    "# !pip install TTS"
   ]
  },
  {
   "cell_type": "markdown",
   "id": "5bb87c83",
   "metadata": {},
   "source": [
    "### Verifique se o TTS da Coqui foi bem instalado"
   ]
  },
  {
   "cell_type": "code",
   "execution_count": 11,
   "id": "0abcdf5b",
   "metadata": {},
   "outputs": [
    {
     "name": "stdout",
     "output_type": "stream",
     "text": [
      "Erro: O pacote TTS não foi encontrado.\n"
     ]
    }
   ],
   "source": [
    "try:\n",
    "    import TTS\n",
    "    print(\"TTS foi instalado com sucesso!\")\n",
    "    print(\"Versão do TTS:\", TTS.__version__)\n",
    "except ImportError:\n",
    "    print(\"Erro: O pacote TTS não foi encontrado.\")"
   ]
  },
  {
   "cell_type": "code",
   "execution_count": null,
   "id": "292b57ec",
   "metadata": {},
   "outputs": [],
   "source": []
  }
 ],
 "metadata": {
  "kernelspec": {
   "display_name": "Python 3 (ipykernel)",
   "language": "python",
   "name": "python3"
  },
  "language_info": {
   "codemirror_mode": {
    "name": "ipython",
    "version": 3
   },
   "file_extension": ".py",
   "mimetype": "text/x-python",
   "name": "python",
   "nbconvert_exporter": "python",
   "pygments_lexer": "ipython3",
   "version": "3.11.4"
  }
 },
 "nbformat": 4,
 "nbformat_minor": 5
}
